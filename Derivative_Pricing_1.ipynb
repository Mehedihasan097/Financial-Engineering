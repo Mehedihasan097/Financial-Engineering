{
  "nbformat": 4,
  "nbformat_minor": 0,
  "metadata": {
    "colab": {
      "provenance": [],
      "authorship_tag": "ABX9TyP2pjjDtDi4vZUL1D0pMkMS",
      "include_colab_link": true
    },
    "kernelspec": {
      "name": "python3",
      "display_name": "Python 3"
    },
    "language_info": {
      "name": "python"
    }
  },
  "cells": [
    {
      "cell_type": "markdown",
      "metadata": {
        "id": "view-in-github",
        "colab_type": "text"
      },
      "source": [
        "<a href=\"https://colab.research.google.com/github/Mehedihasan097/Financial-Engineering/blob/main/Derivative_Pricing_1.ipynb\" target=\"_parent\"><img src=\"https://colab.research.google.com/assets/colab-badge.svg\" alt=\"Open In Colab\"/></a>"
      ]
    },
    {
      "cell_type": "markdown",
      "source": [
        "8. **Pricing an ATM American Call and Put Using a Binomial Tree**\n",
        "\n",
        "Here, we want to find the price of ATM (At-the-Money) options, which means the option's exercise price is equal to the current price of the asset. This method helps ensure we understand the baseline value of the option when it's at its most basic condition.  \n",
        "\n",
        "Using many steps in a binomial tree gives a more accurate estimate of the option's value. More steps let us “zoom in” on the range of possible future prices, providing a finer understanding of the potential price movements. For example, choosing 200 steps means we're considering many small price movements, making our estimate precise and realistic.  \n",
        "\n",
        "**Pricing Process**:\n",
        "\n",
        "1.   We start by calculating the possible future prices at each step (each up or down movement).\n",
        "2.   For each final price at the expiration date, we check whether exercising the option is profitable. For a call option, we calculate the profit if the price exceeds the strike price; for a put option, we calculate profit if it's below.\n",
        "3.  Moving backward from the expiration date, we apply the option values at each node, combining possible outcomes to estimate today's price."
      ],
      "metadata": {
        "id": "AMpyK0Nyf1jL"
      }
    },
    {
      "cell_type": "code",
      "source": [
        "import numpy as np\n",
        "import pandas as pd\n",
        "import matplotlib.pyplot as plt"
      ],
      "metadata": {
        "id": "JfDLctiWfzp-"
      },
      "execution_count": null,
      "outputs": []
    },
    {
      "cell_type": "code",
      "source": [
        "# Parameters\n",
        "S0 = 100      # Initial stock price\n",
        "K = 100       # Strike price, ATM implies K = S0\n",
        "r = 0.05      # Risk-free rate (5%)\n",
        "sigma = 0.20  # Volatility (20%)\n",
        "T = 3 / 12    # Maturity in years (3 months)\n",
        "steps = 100   # Number of steps in the binomial tree\n",
        "\n",
        "def calculate_parameters(S0, K, r, sigma, T, steps):\n",
        "    \"\"\"Calculate parameters for the binomial tree.\"\"\"\n",
        "    dt = T / steps\n",
        "    u = np.exp(sigma * np.sqrt(dt))  # Up factor\n",
        "    d = 1 / u                        # Down factor\n",
        "    q = (np.exp(r * dt) - d) / (u - d)  # Risk-neutral probability\n",
        "    return dt, u, d, q\n",
        "\n",
        "def initialize_stock_prices(S0, u, d, steps):\n",
        "    \"\"\"Initialize a matrix for stock prices at each node in the binomial tree.\"\"\"\n",
        "    ST_matrix = np.zeros((steps + 1, steps + 1))\n",
        "    for j in range(steps + 1):\n",
        "        for i in range(j + 1):\n",
        "            ST_matrix[i, j] = S0 * (u ** (j - i)) * (d ** i)  # Calculate stock price at each node\n",
        "    return ST_matrix\n",
        "\n",
        "def initialize_option_payoffs(ST_matrix, K, steps):\n",
        "    \"\"\"Initialize option payoffs at maturity for call and put options.\"\"\"\n",
        "    call_matrix = np.maximum(0, ST_matrix[:, steps] - K)\n",
        "    put_matrix = np.maximum(0, K - ST_matrix[:, steps])\n",
        "    return call_matrix, put_matrix\n",
        "\n",
        "def build_binomial_tree(call_matrix, put_matrix, ST_matrix, r, q, K, dt, steps):\n",
        "    \"\"\"Build the binomial tree for American option prices.\"\"\"\n",
        "    for j in range(steps - 1, -1, -1):\n",
        "        for i in range(j + 1):\n",
        "            # Continuation value\n",
        "            call_continuation = np.exp(-r * dt) * (q * call_matrix[i] + (1 - q) * call_matrix[i + 1])\n",
        "            put_continuation = np.exp(-r * dt) * (q * put_matrix[i] + (1 - q) * put_matrix[i + 1])\n",
        "\n",
        "            # Early exercise for American options\n",
        "            call_matrix[i] = max(call_continuation, ST_matrix[i, j] - K)\n",
        "            put_matrix[i] = max(put_continuation, K - ST_matrix[i, j])\n",
        "\n",
        "    # Return the root values (t=0)\n",
        "    return call_matrix[0], put_matrix[0]\n",
        "\n",
        "def american_option_pricing(S0, K, r, sigma, T, steps):\n",
        "    \"\"\"Main function to calculate American call and put option prices using a binomial tree.\"\"\"\n",
        "    # Step 1: Calculate parameters\n",
        "    dt, u, d, q = calculate_parameters(S0, K, r, sigma, T, steps)\n",
        "\n",
        "    # Step 2: Initialize stock prices across the binomial tree\n",
        "    ST_matrix = initialize_stock_prices(S0, u, d, steps)\n",
        "\n",
        "    # Step 3: Initialize option payoffs at maturity\n",
        "    call_matrix, put_matrix = initialize_option_payoffs(ST_matrix, K, steps)\n",
        "\n",
        "    # Step 4: Expand option payoffs across the binomial tree\n",
        "    american_call_price, american_put_price = build_binomial_tree(\n",
        "        call_matrix, put_matrix, ST_matrix, r, q, K, dt, steps\n",
        "    )\n",
        "\n",
        "    return american_call_price, american_put_price, ST_matrix\n",
        "\n",
        "# Run the model\n",
        "american_call_price, american_put_price, ST_matrix = american_option_pricing(S0, K, r, sigma, T, steps)\n",
        "\n",
        "print(\"American Call Option Price (ATM) at t=0:\", round(american_call_price, 2))\n",
        "print(\"American Put Option Price (ATM) at t=0:\", round(american_put_price, 2))\n",
        "\n",
        "# Convert the underlying asset price matrix to a DataFrame for better readability\n",
        "underlying_asset_df = pd.DataFrame(ST_matrix)\n",
        "print(\"\\nBinomial Tree for Stock Prices:\")\n",
        "print(underlying_asset_df)\n",
        "\n",
        "# Display the Underlying Asset Price Matrix (Binomial Tree for Stock Prices)\n",
        "print(\"\\nUnderlying Asset Price Matrix:\")\n",
        "print(underlying_asset_df)\n"
      ],
      "metadata": {
        "colab": {
          "base_uri": "https://localhost:8080/",
          "height": 0
        },
        "id": "xZp4EXJvMbhU",
        "outputId": "044503c1-93a0-4e00-e924-c590857373c2"
      },
      "execution_count": 21,
      "outputs": [
        {
          "output_type": "stream",
          "name": "stdout",
          "text": [
            "American Call Option Price (ATM) at t=0: 4.61\n",
            "American Put Option Price (ATM) at t=0: 3.47\n",
            "\n",
            "Binomial Tree for Stock Prices:\n",
            "       0           1           2           3           4           5    \\\n",
            "0    100.0  101.005017  102.020134  103.045453  104.081077  105.127110   \n",
            "1      0.0   99.004983  100.000000  101.005017  102.020134  103.045453   \n",
            "2      0.0    0.000000   98.019867   99.004983  100.000000  101.005017   \n",
            "3      0.0    0.000000    0.000000   97.044553   98.019867   99.004983   \n",
            "4      0.0    0.000000    0.000000    0.000000   96.078944   97.044553   \n",
            "..     ...         ...         ...         ...         ...         ...   \n",
            "96     0.0    0.000000    0.000000    0.000000    0.000000    0.000000   \n",
            "97     0.0    0.000000    0.000000    0.000000    0.000000    0.000000   \n",
            "98     0.0    0.000000    0.000000    0.000000    0.000000    0.000000   \n",
            "99     0.0    0.000000    0.000000    0.000000    0.000000    0.000000   \n",
            "100    0.0    0.000000    0.000000    0.000000    0.000000    0.000000   \n",
            "\n",
            "            6           7           8           9    ...         91   \\\n",
            "0    106.183655  107.250818  108.328707  109.417428  ...  248.432253   \n",
            "1    104.081077  105.127110  106.183655  107.250818  ...  243.512965   \n",
            "2    102.020134  103.045453  104.081077  105.127110  ...  238.691085   \n",
            "3    100.000000  101.005017  102.020134  103.045453  ...  233.964685   \n",
            "4     98.019867   99.004983  100.000000  101.005017  ...  229.331874   \n",
            "..          ...         ...         ...         ...  ...         ...   \n",
            "96     0.000000    0.000000    0.000000    0.000000  ...    0.000000   \n",
            "97     0.000000    0.000000    0.000000    0.000000  ...    0.000000   \n",
            "98     0.000000    0.000000    0.000000    0.000000  ...    0.000000   \n",
            "99     0.000000    0.000000    0.000000    0.000000  ...    0.000000   \n",
            "100    0.000000    0.000000    0.000000    0.000000  ...    0.000000   \n",
            "\n",
            "            92          93          94          95          96          97   \\\n",
            "0    250.929039  253.450918  255.998142  258.570966  261.169647  263.794446   \n",
            "1    245.960311  248.432253  250.929039  253.450918  255.998142  258.570966   \n",
            "2    241.089971  243.512965  245.960311  248.432253  250.929039  253.450918   \n",
            "3    236.316069  238.691085  241.089971  243.512965  245.960311  248.432253   \n",
            "4    231.636698  233.964685  236.316069  238.691085  241.089971  243.512965   \n",
            "..          ...         ...         ...         ...         ...         ...   \n",
            "96     0.000000    0.000000    0.000000    0.000000   38.289289   38.674102   \n",
            "97     0.000000    0.000000    0.000000    0.000000    0.000000   37.908304   \n",
            "98     0.000000    0.000000    0.000000    0.000000    0.000000    0.000000   \n",
            "99     0.000000    0.000000    0.000000    0.000000    0.000000    0.000000   \n",
            "100    0.000000    0.000000    0.000000    0.000000    0.000000    0.000000   \n",
            "\n",
            "            98          99          100  \n",
            "0    266.445624  269.123447  271.828183  \n",
            "1    261.169647  263.794446  266.445624  \n",
            "2    255.998142  258.570966  261.169647  \n",
            "3    250.929039  253.450918  255.998142  \n",
            "4    245.960311  248.432253  250.929039  \n",
            "..          ...         ...         ...  \n",
            "96    39.062784   39.455371   39.851904  \n",
            "97    38.289289   38.674102   39.062784  \n",
            "98    37.531110   37.908304   38.289289  \n",
            "99     0.000000   37.157669   37.531110  \n",
            "100    0.000000    0.000000   36.787944  \n",
            "\n",
            "[101 rows x 101 columns]\n",
            "\n",
            "Underlying Asset Price Matrix:\n",
            "       0           1           2           3           4           5    \\\n",
            "0    100.0  101.005017  102.020134  103.045453  104.081077  105.127110   \n",
            "1      0.0   99.004983  100.000000  101.005017  102.020134  103.045453   \n",
            "2      0.0    0.000000   98.019867   99.004983  100.000000  101.005017   \n",
            "3      0.0    0.000000    0.000000   97.044553   98.019867   99.004983   \n",
            "4      0.0    0.000000    0.000000    0.000000   96.078944   97.044553   \n",
            "..     ...         ...         ...         ...         ...         ...   \n",
            "96     0.0    0.000000    0.000000    0.000000    0.000000    0.000000   \n",
            "97     0.0    0.000000    0.000000    0.000000    0.000000    0.000000   \n",
            "98     0.0    0.000000    0.000000    0.000000    0.000000    0.000000   \n",
            "99     0.0    0.000000    0.000000    0.000000    0.000000    0.000000   \n",
            "100    0.0    0.000000    0.000000    0.000000    0.000000    0.000000   \n",
            "\n",
            "            6           7           8           9    ...         91   \\\n",
            "0    106.183655  107.250818  108.328707  109.417428  ...  248.432253   \n",
            "1    104.081077  105.127110  106.183655  107.250818  ...  243.512965   \n",
            "2    102.020134  103.045453  104.081077  105.127110  ...  238.691085   \n",
            "3    100.000000  101.005017  102.020134  103.045453  ...  233.964685   \n",
            "4     98.019867   99.004983  100.000000  101.005017  ...  229.331874   \n",
            "..          ...         ...         ...         ...  ...         ...   \n",
            "96     0.000000    0.000000    0.000000    0.000000  ...    0.000000   \n",
            "97     0.000000    0.000000    0.000000    0.000000  ...    0.000000   \n",
            "98     0.000000    0.000000    0.000000    0.000000  ...    0.000000   \n",
            "99     0.000000    0.000000    0.000000    0.000000  ...    0.000000   \n",
            "100    0.000000    0.000000    0.000000    0.000000  ...    0.000000   \n",
            "\n",
            "            92          93          94          95          96          97   \\\n",
            "0    250.929039  253.450918  255.998142  258.570966  261.169647  263.794446   \n",
            "1    245.960311  248.432253  250.929039  253.450918  255.998142  258.570966   \n",
            "2    241.089971  243.512965  245.960311  248.432253  250.929039  253.450918   \n",
            "3    236.316069  238.691085  241.089971  243.512965  245.960311  248.432253   \n",
            "4    231.636698  233.964685  236.316069  238.691085  241.089971  243.512965   \n",
            "..          ...         ...         ...         ...         ...         ...   \n",
            "96     0.000000    0.000000    0.000000    0.000000   38.289289   38.674102   \n",
            "97     0.000000    0.000000    0.000000    0.000000    0.000000   37.908304   \n",
            "98     0.000000    0.000000    0.000000    0.000000    0.000000    0.000000   \n",
            "99     0.000000    0.000000    0.000000    0.000000    0.000000    0.000000   \n",
            "100    0.000000    0.000000    0.000000    0.000000    0.000000    0.000000   \n",
            "\n",
            "            98          99          100  \n",
            "0    266.445624  269.123447  271.828183  \n",
            "1    261.169647  263.794446  266.445624  \n",
            "2    255.998142  258.570966  261.169647  \n",
            "3    250.929039  253.450918  255.998142  \n",
            "4    245.960311  248.432253  250.929039  \n",
            "..          ...         ...         ...  \n",
            "96    39.062784   39.455371   39.851904  \n",
            "97    38.289289   38.674102   39.062784  \n",
            "98    37.531110   37.908304   38.289289  \n",
            "99     0.000000   37.157669   37.531110  \n",
            "100    0.000000    0.000000   36.787944  \n",
            "\n",
            "[101 rows x 101 columns]\n"
          ]
        }
      ]
    },
    {
      "cell_type": "markdown",
      "source": [
        "**Optimal number of steps N in binomial tree**"
      ],
      "metadata": {
        "id": "YTUOHwsPfMWy"
      }
    },
    {
      "cell_type": "markdown",
      "source": [
        "Finding the optimal number of steps N in a binomial tree is a key challenge in option pricing, especially for American options that allow early exercise. In theory, increasing N should yield more accurate results as it better approximates the continuous nature of stock price movements and the flexibility of early exercise. However, there are trade-offs in terms of computational efficiency, so the goal is to find the smallest N that provides a reliable and accurate price estimate."
      ],
      "metadata": {
        "id": "x7RyghNufGTc"
      }
    },
    {
      "cell_type": "code",
      "source": [
        "import numpy as np\n",
        "import pandas as pd\n",
        "import matplotlib.pyplot as plt\n",
        "\n",
        "# Parameters\n",
        "S0 = 100      # Initial stock price\n",
        "K = 100       # Strike price, ATM implies K = S0\n",
        "r = 0.05      # Risk-free rate (5%)\n",
        "sigma = 0.20  # Volatility (20%)\n",
        "T = 3 / 12    # Maturity in years (3 months)\n",
        "convergence_threshold = 0.01  # Convergence threshold for option price\n",
        "\n",
        "def calculate_parameters(S0, K, r, sigma, T, steps):\n",
        "    dt = T / steps\n",
        "    u = np.exp(sigma * np.sqrt(dt))  # Up factor\n",
        "    d = 1 / u                        # Down factor\n",
        "    q = (np.exp(r * dt) - d) / (u - d)  # Risk-neutral probability\n",
        "    return dt, u, d, q\n",
        "\n",
        "def initialize_stock_prices(S0, u, d, steps):\n",
        "    ST_matrix = np.zeros((steps + 1, steps + 1))\n",
        "    for j in range(steps + 1):\n",
        "        for i in range(j + 1):\n",
        "            ST_matrix[i, j] = S0 * (u ** (j - i)) * (d ** i)\n",
        "    return ST_matrix\n",
        "\n",
        "def initialize_option_payoffs(ST_matrix, K, steps):\n",
        "    call_matrix = np.maximum(0, ST_matrix[:, steps] - K)\n",
        "    put_matrix = np.maximum(0, K - ST_matrix[:, steps])\n",
        "    return call_matrix, put_matrix\n",
        "\n",
        "def build_binomial_tree(call_matrix, put_matrix, ST_matrix, r, q, K, dt, steps):\n",
        "    for j in range(steps - 1, -1, -1):\n",
        "        for i in range(j + 1):\n",
        "            call_continuation = np.exp(-r * dt) * (q * call_matrix[i] + (1 - q) * call_matrix[i + 1])\n",
        "            put_continuation = np.exp(-r * dt) * (q * put_matrix[i] + (1 - q) * put_matrix[i + 1])\n",
        "            call_matrix[i] = max(call_continuation, ST_matrix[i, j] - K)\n",
        "            put_matrix[i] = max(put_continuation, K - ST_matrix[i, j])\n",
        "    return call_matrix[0], put_matrix[0]\n",
        "\n",
        "def american_option_pricing(S0, K, r, sigma, T, steps):\n",
        "    dt, u, d, q = calculate_parameters(S0, K, r, sigma, T, steps)\n",
        "    ST_matrix = initialize_stock_prices(S0, u, d, steps)\n",
        "    call_matrix, put_matrix = initialize_option_payoffs(ST_matrix, K, steps)\n",
        "    american_call_price, american_put_price = build_binomial_tree(\n",
        "        call_matrix, put_matrix, ST_matrix, r, q, K, dt, steps\n",
        "    )\n",
        "    return american_call_price, american_put_price\n",
        "\n",
        "def find_optimal_N(S0, K, r, sigma, T, initial_steps=10, max_steps=500):\n",
        "    N = initial_steps\n",
        "    previous_call_price, previous_put_price = american_option_pricing(S0, K, r, sigma, T, N)\n",
        "\n",
        "    while N <= max_steps:\n",
        "        N += 10  # Increment steps by 10 to reduce computation\n",
        "        current_call_price, current_put_price = american_option_pricing(S0, K, r, sigma, T, N)\n",
        "\n",
        "        # Check for convergence on both call and put prices\n",
        "        if abs(current_call_price - previous_call_price) < convergence_threshold and \\\n",
        "           abs(current_put_price - previous_put_price) < convergence_threshold:\n",
        "            break\n",
        "\n",
        "        # Update previous prices for next comparison\n",
        "        previous_call_price, previous_put_price = current_call_price, current_put_price\n",
        "\n",
        "    return N, current_call_price, current_put_price\n",
        "\n",
        "# Run the optimal N calculation\n",
        "optimal_N, optimal_call_price, optimal_put_price = find_optimal_N(S0, K, r, sigma, T)\n",
        "\n",
        "print(\"Optimal Number of Steps (N):\", optimal_N)\n",
        "print(\"American Call Option Price (ATM) at optimal N:\", round(optimal_call_price, 2))\n",
        "print(\"American Put Option Price (ATM) at optimal N:\", round(optimal_put_price, 2))\n"
      ],
      "metadata": {
        "colab": {
          "base_uri": "https://localhost:8080/",
          "height": 0
        },
        "id": "paCrqwffPOrP",
        "outputId": "adb3b599-b613-4e94-dac3-eb1a31946b01"
      },
      "execution_count": 25,
      "outputs": [
        {
          "output_type": "stream",
          "name": "stdout",
          "text": [
            "Optimal Number of Steps (N): 40\n",
            "American Call Option Price (ATM) at optimal N: 4.59\n",
            "American Put Option Price (ATM) at optimal N: 3.47\n"
          ]
        }
      ]
    },
    {
      "cell_type": "markdown",
      "source": [
        "9. **Computing Delta for American Call and Put Options**"
      ],
      "metadata": {
        "id": "GF84_jFzjc0T"
      }
    },
    {
      "cell_type": "markdown",
      "source": [
        "Delta is one of the most important Greeks in option pricing. It measures the sensitivity of the option price to small changes in the price of the underlying asset.\n",
        "\n",
        "For a call option, delta indicates how much the option price will increase when the underlying asset's price rises by a small amount. For an American call option, the delta is typically positive because as the stock price rises, the value of a call option also increases. This positive delta signifies that call options gain value when the stock price increases.\n",
        "For a put option, delta indicates how much the option price will decrease when the underlying asset's price rises by a small amount.For an American put option, the delta is usually negative because as the stock price rises, the value of a put option decreases. This negative delta reflects that put options lose value when the stock price goes up.\n",
        "\n",
        "The difference in signs between call and put Delta reflects the options opposite reactions to changes in the stock price. Delta provides insight into an option's directionality and can serve as a proxy for the option's probability of expiring in-the-money.\n",
        "\n",
        "A positive Delta aligns with the notion that call options benefit from a rising underlying price whereas a negative Delta for puts represents their tendency to benefit from a decline in the underlying asset's price."
      ],
      "metadata": {
        "id": "o7Hart5LjhEZ"
      }
    },
    {
      "cell_type": "code",
      "source": [
        "import numpy as np\n",
        "\n",
        "# Parameters\n",
        "S0 = 100      # Initial stock price\n",
        "K = 100       # Strike price\n",
        "r = 0.05      # Risk-free rate (5%)\n",
        "sigma = 0.20  # Volatility (20%)\n",
        "T = 3 / 12    # Maturity in years (3 months)\n",
        "steps = 100   # Number of steps in the binomial tree\n",
        "delta_S = 1   # Small change in stock price to calculate delta\n",
        "\n",
        "def calculate_parameters(S, K, r, sigma, T, steps):\n",
        "    dt = T / steps\n",
        "    u = np.exp(sigma * np.sqrt(dt))\n",
        "    d = 1 / u\n",
        "    q = (np.exp(r * dt) - d) / (u - d)\n",
        "    return dt, u, d, q\n",
        "\n",
        "def initialize_stock_prices(S, u, d, steps):\n",
        "    ST_matrix = np.zeros((steps + 1, steps + 1))\n",
        "    for j in range(steps + 1):\n",
        "        for i in range(j + 1):\n",
        "            ST_matrix[i, j] = S * (u ** (j - i)) * (d ** i)\n",
        "    return ST_matrix\n",
        "\n",
        "def initialize_option_payoffs(ST_matrix, K, steps):\n",
        "    call_matrix = np.maximum(0, ST_matrix[:, steps] - K)\n",
        "    put_matrix = np.maximum(0, K - ST_matrix[:, steps])\n",
        "    return call_matrix, put_matrix\n",
        "\n",
        "def build_binomial_tree(call_matrix, put_matrix, ST_matrix, r, q, K, dt, steps):\n",
        "    for j in range(steps - 1, -1, -1):\n",
        "        for i in range(j + 1):\n",
        "            call_continuation = np.exp(-r * dt) * (q * call_matrix[i] + (1 - q) * call_matrix[i + 1])\n",
        "            put_continuation = np.exp(-r * dt) * (q * put_matrix[i] + (1 - q) * put_matrix[i + 1])\n",
        "            call_matrix[i] = max(call_continuation, ST_matrix[i, j] - K)\n",
        "            put_matrix[i] = max(put_continuation, K - ST_matrix[i, j])\n",
        "    return call_matrix[0], put_matrix[0]\n",
        "\n",
        "def american_option_pricing(S, K, r, sigma, T, steps):\n",
        "    dt, u, d, q = calculate_parameters(S, K, r, sigma, T, steps)\n",
        "    ST_matrix = initialize_stock_prices(S, u, d, steps)\n",
        "    call_matrix, put_matrix = initialize_option_payoffs(ST_matrix, K, steps)\n",
        "    american_call_price, american_put_price = build_binomial_tree(\n",
        "        call_matrix, put_matrix, ST_matrix, r, q, K, dt, steps\n",
        "    )\n",
        "    return american_call_price, american_put_price\n",
        "\n",
        "# Calculate Delta using finite differences\n",
        "# Price options with S0 + delta_S\n",
        "call_up, put_up = american_option_pricing(S0 + delta_S, K, r, sigma, T, steps)\n",
        "\n",
        "# Price options with S0 - delta_S\n",
        "call_down, put_down = american_option_pricing(S0 - delta_S, K, r, sigma, T, steps)\n",
        "\n",
        "# Delta for Call and Put options\n",
        "delta_call = (call_up - call_down) / (2 * delta_S)\n",
        "delta_put = (put_up - put_down) / (2 * delta_S)\n",
        "\n",
        "print(\"Delta for American Call Option:\", round(delta_call, 4))\n",
        "print(\"Delta for American Put Option:\", round(delta_put, 4))\n"
      ],
      "metadata": {
        "colab": {
          "base_uri": "https://localhost:8080/",
          "height": 0
        },
        "id": "om_mO-i9iBiV",
        "outputId": "4486beab-38f3-4f6d-8686-4627a0c81e9d"
      },
      "execution_count": 27,
      "outputs": [
        {
          "output_type": "stream",
          "name": "stdout",
          "text": [
            "Delta for American Call Option: 0.5693\n",
            "Delta for American Put Option: -0.4496\n"
          ]
        }
      ]
    },
    {
      "cell_type": "markdown",
      "source": [
        "10. **Sensitivity to Volatility (Vega)**"
      ],
      "metadata": {
        "id": "D0Etv8xqnaPg"
      }
    },
    {
      "cell_type": "markdown",
      "source": [
        "Vega is positive for both call and put options, as an increase in volatility generally increases the potential for the underlying asset price to move favorably in either direction. Higher volatility leads to a wider range of potential outcomes, which increases the option's value due to the greater probability of reaching a profitable exercise condition.\n",
        "\n",
        "Higher volatility increases the likelihood of the asset price moving above the strike price, thus benefiting call options.\n",
        "\n",
        "Similarly, higher volatility increases the chances of the asset price moving below the strike price, which is favorable for put options."
      ],
      "metadata": {
        "id": "c-pDys1zn7QZ"
      }
    },
    {
      "cell_type": "code",
      "source": [
        "import numpy as np\n",
        "\n",
        "# Parameters\n",
        "S0 = 100      # Initial stock price\n",
        "K = 100       # Strike price\n",
        "r = 0.05      # Risk-free rate (5%)\n",
        "sigma = 0.20  # Original volatility (20%)\n",
        "T = 3 / 12    # Maturity in years (3 months)\n",
        "steps = 100   # Number of steps in the binomial tree\n",
        "delta_sigma = 0.05  # Change in volatility to calculate vega (5%)\n",
        "\n",
        "def calculate_parameters(S, K, r, sigma, T, steps):\n",
        "    dt = T / steps\n",
        "    u = np.exp(sigma * np.sqrt(dt))\n",
        "    d = 1 / u\n",
        "    q = (np.exp(r * dt) - d) / (u - d)\n",
        "    return dt, u, d, q\n",
        "\n",
        "def initialize_stock_prices(S, u, d, steps):\n",
        "    ST_matrix = np.zeros((steps + 1, steps + 1))\n",
        "    for j in range(steps + 1):\n",
        "        for i in range(j + 1):\n",
        "            ST_matrix[i, j] = S * (u ** (j - i)) * (d ** i)\n",
        "    return ST_matrix\n",
        "\n",
        "def initialize_option_payoffs(ST_matrix, K, steps):\n",
        "    call_matrix = np.maximum(0, ST_matrix[:, steps] - K)\n",
        "    put_matrix = np.maximum(0, K - ST_matrix[:, steps])\n",
        "    return call_matrix, put_matrix\n",
        "\n",
        "def build_binomial_tree(call_matrix, put_matrix, ST_matrix, r, q, K, dt, steps):\n",
        "    for j in range(steps - 1, -1, -1):\n",
        "        for i in range(j + 1):\n",
        "            call_continuation = np.exp(-r * dt) * (q * call_matrix[i] + (1 - q) * call_matrix[i + 1])\n",
        "            put_continuation = np.exp(-r * dt) * (q * put_matrix[i] + (1 - q) * put_matrix[i + 1])\n",
        "            call_matrix[i] = max(call_continuation, ST_matrix[i, j] - K)\n",
        "            put_matrix[i] = max(put_continuation, K - ST_matrix[i, j])\n",
        "    return call_matrix[0], put_matrix[0]\n",
        "\n",
        "def american_option_pricing(S, K, r, sigma, T, steps):\n",
        "    dt, u, d, q = calculate_parameters(S, K, r, sigma, T, steps)\n",
        "    ST_matrix = initialize_stock_prices(S, u, d, steps)\n",
        "    call_matrix, put_matrix = initialize_option_payoffs(ST_matrix, K, steps)\n",
        "    american_call_price, american_put_price = build_binomial_tree(\n",
        "        call_matrix, put_matrix, ST_matrix, r, q, K, dt, steps\n",
        "    )\n",
        "    return american_call_price, american_put_price\n",
        "\n",
        "# Original option prices with initial volatility\n",
        "call_original, put_original = american_option_pricing(S0, K, r, sigma, T, steps)\n",
        "\n",
        "# Option prices with increased volatility (sigma + delta_sigma)\n",
        "call_increased_vol, put_increased_vol = american_option_pricing(S0, K, r, sigma + delta_sigma, T, steps)\n",
        "\n",
        "# Calculate Vega for Call and Put options\n",
        "vega_call = (call_increased_vol - call_original) / delta_sigma\n",
        "vega_put = (put_increased_vol - put_original) / delta_sigma\n",
        "\n",
        "# Display original and increased volatility option prices along with Vega values\n",
        "print(\"=== American Call Option ===\")\n",
        "print(\"Original Call Price (20% volatility):\", round(call_original, 4))\n",
        "print(\"Increased Call Price (25% volatility):\", round(call_increased_vol, 4))\n",
        "print(\"Vega (sensitivity to volatility):\", round(vega_call, 4))\n",
        "\n",
        "print(\"\\n=== American Put Option ===\")\n",
        "print(\"Original Put Price (20% volatility):\", round(put_original, 4))\n",
        "print(\"Increased Put Price (25% volatility):\", round(put_increased_vol, 4))\n",
        "print(\"Vega (sensitivity to volatility):\", round(vega_put, 4))\n",
        "\n",
        "# Comparison Summary\n",
        "if vega_call > vega_put:\n",
        "    print(\"\\nThe American call option shows a higher sensitivity to changes in volatility than the put option.\")\n",
        "else:\n",
        "    print(\"\\nThe American put option shows a higher sensitivity to changes in volatility than the call option.\")"
      ],
      "metadata": {
        "colab": {
          "base_uri": "https://localhost:8080/",
          "height": 0
        },
        "id": "TjvVCkTtk15c",
        "outputId": "e5d4c732-7193-43b4-f495-f4ba70deb121"
      },
      "execution_count": 30,
      "outputs": [
        {
          "output_type": "stream",
          "name": "stdout",
          "text": [
            "=== American Call Option ===\n",
            "Original Call Price (20% volatility): 4.605\n",
            "Increased Call Price (25% volatility): 5.586\n",
            "Vega (sensitivity to volatility): 19.6189\n",
            "\n",
            "=== American Put Option ===\n",
            "Original Put Price (20% volatility): 3.4746\n",
            "Increased Put Price (25% volatility): 4.4528\n",
            "Vega (sensitivity to volatility): 19.5652\n",
            "\n",
            "The American call option shows a higher sensitivity to changes in volatility than the put option.\n"
          ]
        }
      ]
    },
    {
      "cell_type": "markdown",
      "source": [
        "15. **European call options using a trinomial tree with varying moneyness levels**"
      ],
      "metadata": {
        "id": "wOaaoghDsWQN"
      }
    },
    {
      "cell_type": "markdown",
      "source": [
        "**Trinomial Tree**: A trinomial tree is an extension of the binomial tree, allowing for three possible movements at each node: up, down, and staying the same.\n",
        "\n",
        "**Moneyness and Strike Prices**: Moneyness measures the option's intrinsic value in relation to the underlying asset price.\n",
        "\n",
        "*   Deep Out-of-the-Money : The strike is much higher than the current price\n",
        "*   Out-of-the-Money : Strike is slightly higher than the current price.\n",
        "*   At-the-Money: Strike is approximately equal to the current price.\n",
        "*   In-the-Money : Strike is slightly lower than the current price.\n",
        "*   Deep In-the-Money : Strike is much lower than the current price.\n",
        "\n",
        "\n",
        "**Expected Trend**: We expect that as the strike price decreases (moving from Deep OTM to Deep ITM), the option prices will increase because the option has a higher probability of expiring in the money.\n",
        "\n",
        "\n",
        "\n",
        "\n",
        "\n"
      ],
      "metadata": {
        "id": "Av0wwyKhMrog"
      }
    },
    {
      "cell_type": "code",
      "source": [
        "import numpy as np\n",
        "\n",
        "# Parameters\n",
        "S0 = 100      # Initial stock price\n",
        "r = 0.05      # Risk-free rate (5%)\n",
        "sigma = 0.20  # Volatility (20%)\n",
        "T = 3 / 12    # Maturity in years (3 months)\n",
        "steps = 100   # Number of steps in the trinomial tree\n",
        "\n",
        "# Strike prices based on moneyness\n",
        "strike_prices = {\n",
        "    \"Deep OTM\": S0 * 1.1,\n",
        "    \"OTM\": S0 * 1.05,\n",
        "    \"ATM\": S0 * 1.0,\n",
        "    \"ITM\": S0 * 0.95,\n",
        "    \"Deep ITM\": S0 * 0.9\n",
        "}\n",
        "\n",
        "def calculate_trinomial_parameters(S0, r, sigma, T, steps):\n",
        "    dt = T / steps\n",
        "    u = np.exp(sigma * np.sqrt(2 * dt))   # Up factor\n",
        "    d = 1 / u                             # Down factor\n",
        "    m = 1                                 # No change factor (middle node)\n",
        "\n",
        "    # Risk-neutral probabilities\n",
        "    pu = ((np.exp(r * dt / 2) - np.exp(-sigma * np.sqrt(dt / 2))) / (np.exp(sigma * np.sqrt(dt / 2)) - np.exp(-sigma * np.sqrt(dt / 2))))**2\n",
        "    pd = ((np.exp(sigma * np.sqrt(dt / 2)) - np.exp(r * dt / 2)) / (np.exp(sigma * np.sqrt(dt / 2)) - np.exp(-sigma * np.sqrt(dt / 2))))**2\n",
        "    pm = 1 - pu - pd\n",
        "\n",
        "    return dt, u, d, m, pu, pm, pd\n",
        "\n",
        "def trinomial_tree_option_price(S0, K, r, sigma, T, steps):\n",
        "    dt, u, d, m, pu, pm, pd = calculate_trinomial_parameters(S0, r, sigma, T, steps)\n",
        "\n",
        "    # Initialize asset prices at maturity\n",
        "    ST = np.zeros((2 * steps + 1,))\n",
        "    for i in range(2 * steps + 1):\n",
        "        ST[i] = S0 * (u ** max(0, steps - i)) * (d ** max(0, i - steps))\n",
        "\n",
        "    # Option values at maturity\n",
        "    call_values = np.maximum(ST - K, 0)\n",
        "\n",
        "    # Step back through the tree\n",
        "    for j in range(steps - 1, -1, -1):\n",
        "        for i in range(2 * j + 1):\n",
        "            call_values[i] = np.exp(-r * dt) * (pu * call_values[i] + pm * call_values[i + 1] + pd * call_values[i + 2])\n",
        "\n",
        "    return call_values[0]\n",
        "\n",
        "# Price call options for each strike\n",
        "option_prices = {}\n",
        "for moneyness, K in strike_prices.items():\n",
        "    price = trinomial_tree_option_price(S0, K, r, sigma, T, steps)\n",
        "    option_prices[moneyness] = price\n",
        "    print(f\"European Call Option Price for {moneyness} (Strike={K}): {round(price, 4)}\")\n",
        "\n",
        "# Display trend in option prices\n",
        "print(\"\\nTrend in option prices with respect to moneyness:\")\n",
        "for moneyness, price in option_prices.items():\n",
        "    print(f\"{moneyness}: {round(price, 4)}\")\n"
      ],
      "metadata": {
        "colab": {
          "base_uri": "https://localhost:8080/",
          "height": 0
        },
        "id": "2_3roQs-nbNX",
        "outputId": "9293c3be-cb9f-4398-9362-10fa94f30e71"
      },
      "execution_count": 31,
      "outputs": [
        {
          "output_type": "stream",
          "name": "stdout",
          "text": [
            "European Call Option Price for Deep OTM (Strike=110.00000000000001): 1.1918\n",
            "European Call Option Price for OTM (Strike=105.0): 2.4819\n",
            "European Call Option Price for ATM (Strike=100.0): 4.61\n",
            "European Call Option Price for ITM (Strike=95.0): 7.7176\n",
            "European Call Option Price for Deep ITM (Strike=90.0): 11.6717\n",
            "\n",
            "Trend in option prices with respect to moneyness:\n",
            "Deep OTM: 1.1918\n",
            "OTM: 2.4819\n",
            "ATM: 4.61\n",
            "ITM: 7.7176\n",
            "Deep ITM: 11.6717\n"
          ]
        }
      ]
    },
    {
      "cell_type": "markdown",
      "source": [
        "16. **European call options using a trinomial tree with varying moneyness levels**"
      ],
      "metadata": {
        "id": "yNIQsXoUN5gm"
      }
    },
    {
      "cell_type": "code",
      "source": [
        "import numpy as np\n",
        "\n",
        "# Parameters\n",
        "S0 = 100      # Initial stock price\n",
        "r = 0.05      # Risk-free rate (5%)\n",
        "sigma = 0.20  # Volatility (20%)\n",
        "T = 3 / 12    # Maturity in years (3 months)\n",
        "steps = 100   # Number of steps in the trinomial tree\n",
        "\n",
        "# Strike prices based on moneyness\n",
        "strike_prices = {\n",
        "    \"Deep OTM\": S0 * 1.1,\n",
        "    \"OTM\": S0 * 1.05,\n",
        "    \"ATM\": S0 * 1.0,\n",
        "    \"ITM\": S0 * 0.95,\n",
        "    \"Deep ITM\": S0 * 0.9\n",
        "}\n",
        "\n",
        "def calculate_trinomial_parameters(S0, r, sigma, T, steps):\n",
        "    dt = T / steps\n",
        "    u = np.exp(sigma * np.sqrt(2 * dt))   # Up factor\n",
        "    d = 1 / u                             # Down factor\n",
        "    m = 1                                 # No change factor (middle node)\n",
        "\n",
        "    # Risk-neutral probabilities\n",
        "    pu = ((np.exp(r * dt / 2) - np.exp(-sigma * np.sqrt(dt / 2))) / (np.exp(sigma * np.sqrt(dt / 2)) - np.exp(-sigma * np.sqrt(dt / 2))))**2\n",
        "    pd = ((np.exp(sigma * np.sqrt(dt / 2)) - np.exp(r * dt / 2)) / (np.exp(sigma * np.sqrt(dt / 2)) - np.exp(-sigma * np.sqrt(dt / 2))))**2\n",
        "    pm = 1 - pu - pd\n",
        "\n",
        "    return dt, u, d, m, pu, pm, pd\n",
        "\n",
        "def trinomial_tree_option_price(S0, K, r, sigma, T, steps):\n",
        "    dt, u, d, m, pu, pm, pd = calculate_trinomial_parameters(S0, r, sigma, T, steps)\n",
        "\n",
        "    # Initialize asset prices at maturity\n",
        "    ST = np.zeros((2 * steps + 1,))\n",
        "    for i in range(2 * steps + 1):\n",
        "        ST[i] = S0 * (u ** max(0, steps - i)) * (d ** max(0, i - steps))\n",
        "\n",
        "    # Option values at maturity for put option\n",
        "    put_values = np.maximum(K - ST, 0)\n",
        "\n",
        "    # Step back through the tree\n",
        "    for j in range(steps - 1, -1, -1):\n",
        "        for i in range(2 * j + 1):\n",
        "            put_values[i] = np.exp(-r * dt) * (pu * put_values[i] + pm * put_values[i + 1] + pd * put_values[i + 2])\n",
        "\n",
        "    return put_values[0]\n",
        "\n",
        "# Price put options for each strike\n",
        "option_prices = {}\n",
        "for moneyness, K in strike_prices.items():\n",
        "    price = trinomial_tree_option_price(S0, K, r, sigma, T, steps)\n",
        "    option_prices[moneyness] = price\n",
        "    print(f\"European Put Option Price for {moneyness} (Strike={K}): {round(price, 4)}\")\n",
        "\n",
        "# Display trend in option prices\n",
        "print(\"\\nTrend in option prices with respect to moneyness:\")\n",
        "for moneyness, price in option_prices.items():\n",
        "    print(f\"{moneyness}: {round(price, 4)}\")\n"
      ],
      "metadata": {
        "colab": {
          "base_uri": "https://localhost:8080/",
          "height": 0
        },
        "id": "sibbQa6wsOhG",
        "outputId": "84f5a74e-625d-4407-f7a4-e6bd977aec78"
      },
      "execution_count": 2,
      "outputs": [
        {
          "output_type": "stream",
          "name": "stdout",
          "text": [
            "European Put Option Price for Deep OTM (Strike=110.00000000000001): 9.8253\n",
            "European Put Option Price for OTM (Strike=105.0): 6.1776\n",
            "European Put Option Price for ATM (Strike=100.0): 3.3678\n",
            "European Put Option Price for ITM (Strike=95.0): 1.5375\n",
            "European Put Option Price for Deep ITM (Strike=90.0): 0.5537\n",
            "\n",
            "Trend in option prices with respect to moneyness:\n",
            "Deep OTM: 9.8253\n",
            "OTM: 6.1776\n",
            "ATM: 3.3678\n",
            "ITM: 1.5375\n",
            "Deep ITM: 0.5537\n"
          ]
        }
      ]
    },
    {
      "cell_type": "markdown",
      "source": [
        "**Summary of Findings**"
      ],
      "metadata": {
        "id": "f7RwnJnWQh1k"
      }
    },
    {
      "cell_type": "markdown",
      "source": [
        ". **Delta and Vega Sensitivities**: We observed that call options tend to have positive Delta, while puts have negative Delta, indicating directional sensitivities. Vega was positive for both, as higher volatility increased the potential for both types of options to reach profitable levels.\n",
        "\n",
        ". **Trinomial Tree Pricing**: The trinomial model provided a flexible and accurate approach to pricing European options at different moneyness levels, highlighting how option prices increase as the likelihood of finishing in-the-money increases.\n",
        "\n",
        ". **Practical Insights**: This analysis provided a structured approach to understanding option price sensitivities and trends, showing that options with favorable probabilities of expiring in-the-money command higher prices due to their intrinsic value potential."
      ],
      "metadata": {
        "id": "oMNQW_q2Qkzp"
      }
    }
  ]
}