{
  "nbformat": 4,
  "nbformat_minor": 0,
  "metadata": {
    "colab": {
      "provenance": [],
      "authorship_tag": "ABX9TyNvypje8TRkr+jWOwXZBlav",
      "include_colab_link": true
    },
    "kernelspec": {
      "name": "python3",
      "display_name": "Python 3"
    },
    "language_info": {
      "name": "python"
    }
  },
  "cells": [
    {
      "cell_type": "markdown",
      "metadata": {
        "id": "view-in-github",
        "colab_type": "text"
      },
      "source": [
        "<a href=\"https://colab.research.google.com/github/Mehedihasan097/Financial-Engineering/blob/main/Derivative_Pricing_Monte_Carlo_Simulations.ipynb\" target=\"_parent\"><img src=\"https://colab.research.google.com/assets/colab-badge.svg\" alt=\"Open In Colab\"/></a>"
      ]
    },
    {
      "cell_type": "markdown",
      "source": [
        "**Step 1**"
      ],
      "metadata": {
        "id": "yYg6YezwAQCR"
      }
    },
    {
      "cell_type": "markdown",
      "source": [
        "**5.\tPricing an ATM European Call and Put Using Monte Carlo Simulation**"
      ],
      "metadata": {
        "id": "oyzu46OZMIha"
      }
    },
    {
      "cell_type": "markdown",
      "source": [
        "a.\tHere, to find out the optimal number of Monte Carlo Simulations, we need to determine the point at which increasing the number of simulations no longer significantly changes the option price. This ensures that the computed price converges to a stable value without unnecessary computational overhead. Here we develop a convergence checking mechanism and recommender system for optimal number of simulations. A convergence check is performed by comparing the absolute difference between successive option prices. If the change between two successive prices is less than the specified tolerance (0.01), the mechanism considers the option price to have converged. The number of simulations at which this condition is first met is recorded as optimal simulation count.\n",
        "\n",
        "b.\tIn Monte Carlo approach, we simulate the path of the underlying asset price over time using a continuous-time framework. We consider crucial parameters such as the number of simulations (num_simulations = 80,000) and time steps (num_days = 63, corresponding to daily time steps over 3 months) are chosen to provide a balance between accuracy and computational efficiency. Daily time steps provide a realistic granularity for modeling the path of the stock price and the number of simulation ensure that the Monte Carlo estimate of the option price converges to a reliable value. For each simulation, the stock price path is generated using Geometric Brownian Motion (GBM). GBM assumes the stock price follows the equation:\n",
        "dSt = St(μdt + σ dWt)\n",
        "\n",
        " where dWt represents a Wiener process, μ is the drift, and σ is the volatility.\n",
        "\n",
        "\n",
        "For each simulation, the final stock price St s used to calculate the payoff of the option and The average payoff from all simulations is discounted back to the present value using the risk-free rate."
      ],
      "metadata": {
        "id": "Y2BP6EerMOVH"
      }
    },
    {
      "cell_type": "code",
      "source": [
        "import numpy as np\n",
        "import matplotlib.pyplot as plt\n",
        "\n",
        "# Parameters\n",
        "S0 = 100      # Initial stock price\n",
        "K = 100       # Strike price (ATM)\n",
        "r = 0.05      # Risk-free rate (5%)\n",
        "sigma = 0.20  # Volatility (20%)\n",
        "T = 3 / 12    # Maturity in years (3 months)\n",
        "num_days = 63 # Daily time steps (3 months ≈ 63 days)\n",
        "tolerance = 0.01  # Tolerance level for convergence\n",
        "\n",
        "# Monte Carlo simulation for European option pricing\n",
        "def monte_carlo_option_pricing(S0, K, r, sigma, T, num_days, num_simulations, option_type=\"call\"):\n",
        "    dt = T / num_days\n",
        "    payoff_sum = 0\n",
        "\n",
        "    for _ in range(num_simulations):\n",
        "        # Simulate daily stock prices using GBM\n",
        "        S_t = S0\n",
        "        for _ in range(num_days):\n",
        "            Z = np.random.normal(0, 1)\n",
        "            S_t *= np.exp((r - 0.5 * sigma ** 2) * dt + sigma * np.sqrt(dt) * Z)\n",
        "\n",
        "        # Calculate payoff at maturity\n",
        "        if option_type == \"call\":\n",
        "            payoff_sum += max(S_t - K, 0)\n",
        "        elif option_type == \"put\":\n",
        "            payoff_sum += max(K - S_t, 0)\n",
        "\n",
        "    # Calculate the discounted option price\n",
        "    option_price = (payoff_sum / num_simulations) * np.exp(-r * T)\n",
        "    return option_price\n",
        "\n",
        "# List to store results\n",
        "simulation_counts = [1000, 5000, 10000, 20000, 40000, 60000, 80000, 100000, 120000, 140000, 150000]\n",
        "option_prices = []\n",
        "\n",
        "# Check convergence\n",
        "optimal_simulation_count = None\n",
        "for i, num_simulations in enumerate(simulation_counts):\n",
        "    call_price = monte_carlo_option_pricing(S0, K, r, sigma, T, num_days, num_simulations, option_type=\"call\")\n",
        "    option_prices.append(call_price)\n",
        "    print(f\"Call Option Price with {num_simulations} simulations: {round(call_price, 4)}\")\n",
        "\n",
        "    # Check for convergence with the specified tolerance level\n",
        "    if i > 0 and abs(option_prices[i] - option_prices[i - 1]) < tolerance:\n",
        "        optimal_simulation_count = num_simulations\n",
        "        break\n",
        "\n",
        "# Plot the results\n",
        "plt.figure(figsize=(10, 6))\n",
        "plt.plot(simulation_counts[:len(option_prices)], option_prices, marker='o', linestyle='-')\n",
        "plt.title('Convergence of Option Price with Increasing Number of Simulations')\n",
        "plt.xlabel('Number of Simulations')\n",
        "plt.ylabel('Option Price')\n",
        "plt.grid(True)\n",
        "plt.show()\n",
        "\n",
        "# Recommend optimal number of simulations\n",
        "if optimal_simulation_count:\n",
        "    print(f\"\\nRecommended number of simulations for convergence: {optimal_simulation_count}\")\n",
        "else:\n",
        "    print(\"\\nConvergence not reached within the tested simulation counts.\")"
      ],
      "metadata": {
        "colab": {
          "base_uri": "https://localhost:8080/",
          "height": 720
        },
        "id": "UVsSff1raTch",
        "outputId": "59d92724-28b4-4920-8506-9d7e98e7d362"
      },
      "execution_count": null,
      "outputs": [
        {
          "output_type": "stream",
          "name": "stdout",
          "text": [
            "Call Option Price with 1000 simulations: 4.1763\n",
            "Call Option Price with 5000 simulations: 4.7016\n",
            "Call Option Price with 10000 simulations: 4.8122\n",
            "Call Option Price with 20000 simulations: 4.5951\n",
            "Call Option Price with 40000 simulations: 4.6184\n",
            "Call Option Price with 60000 simulations: 4.6048\n",
            "Call Option Price with 80000 simulations: 4.6036\n"
          ]
        },
        {
          "output_type": "display_data",
          "data": {
            "text/plain": [
              "<Figure size 1000x600 with 1 Axes>"
            ],
            "image/png": "[encoded data removed]"
          },
          "metadata": {}
        },
        {
          "output_type": "stream",
          "name": "stdout",
          "text": [
            "\n",
            "Recommended number of simulations for convergence: 80000\n"
          ]
        }
      ]
    },
    {
      "cell_type": "code",
      "source": [
        "import numpy as np\n",
        "\n",
        "# Parameters\n",
        "S0 = 100      # Initial stock price\n",
        "K = 100       # Strike price (ATM)\n",
        "r = 0.05      # Risk-free rate (5%)\n",
        "sigma = 0.20  # Original volatility (20%)\n",
        "T = 3 / 12    # Maturity in years (3 months)\n",
        "num_days = 63 # Daily time steps (252 trading days in a year, 3 months ≈ 63 days)\n",
        "num_simulations = 80000  # Number of Monte Carlo simulations\n",
        "delta_S = 1   # Change in stock price for Delta calculation\n",
        "delta_sigma = 0.05  # Change in volatility for Vega calculation\n",
        "\n",
        "# Monte Carlo simulation for European option pricing\n",
        "def monte_carlo_option_pricing(S0, K, r, sigma, T, num_days, num_simulations, option_type=\"call\"):\n",
        "    dt = T / num_days\n",
        "    payoff_sum = 0\n",
        "\n",
        "    for _ in range(num_simulations):\n",
        "        # Simulate daily stock prices using GBM\n",
        "        S_t = S0\n",
        "        for _ in range(num_days):\n",
        "            Z = np.random.normal(0, 1)\n",
        "            S_t *= np.exp((r - 0.5 * sigma ** 2) * dt + sigma * np.sqrt(dt) * Z)\n",
        "\n",
        "        # Calculate payoff at maturity\n",
        "        if option_type == \"call\":\n",
        "            payoff_sum += max(S_t - K, 0)\n",
        "        elif option_type == \"put\":\n",
        "            payoff_sum += max(K - S_t, 0)\n",
        "\n",
        "    # Calculate the discounted option price\n",
        "    option_price = (payoff_sum / num_simulations) * np.exp(-r * T)\n",
        "    return option_price"
      ],
      "metadata": {
        "id": "WmMRE_acniJ4"
      },
      "execution_count": null,
      "outputs": []
    },
    {
      "cell_type": "code",
      "source": [
        "# 5. Price ATM European call and put options\n",
        "call_price = monte_carlo_option_pricing(S0, K, r, sigma, T, num_days, num_simulations, option_type=\"call\")\n",
        "put_price = monte_carlo_option_pricing(S0, K, r, sigma, T, num_days, num_simulations, option_type=\"put\")\n",
        "\n",
        "print(f\"ATM European Call Option Price: {round(call_price, 4)}\")\n",
        "print(f\"ATM European Put Option Price: {round(put_price, 4)}\")"
      ],
      "metadata": {
        "colab": {
          "base_uri": "https://localhost:8080/"
        },
        "id": "1cih9adPnojN",
        "outputId": "bbea64b3-f6cc-4003-a275-943553be148b"
      },
      "execution_count": null,
      "outputs": [
        {
          "output_type": "stream",
          "name": "stdout",
          "text": [
            "ATM European Call Option Price: 4.5798\n",
            "ATM European Put Option Price: 3.3789\n"
          ]
        }
      ]
    },
    {
      "cell_type": "markdown",
      "source": [
        "6.\tIn Monte Carlo simulations, Delta can be approximated using the finite difference method. This involves pricing the option at slightly higher and lower prices of the underlying asset and then calculating the difference between these prices.\n",
        "A positive delta for a call option means that as the stock price increases, the call option becomes more valuable. As the delta is 0.5781 for the call option, the holder benefits when the underlying asset price rises. A negative Delta for a put option means that as the stock price increases, the put option becomes less valuable. As the delta is -0.4464, the holder benefits when the underlying asset price falls.\n"
      ],
      "metadata": {
        "id": "Y2eH9bpTMksp"
      }
    },
    {
      "cell_type": "code",
      "source": [
        "# 6. Compute Greek Delta for the European call and put at time 0\n",
        "# Price options with S0 + delta_S\n",
        "call_price_up = monte_carlo_option_pricing(S0 + delta_S, K, r, sigma, T, num_days, num_simulations, option_type=\"call\")\n",
        "put_price_up = monte_carlo_option_pricing(S0 + delta_S, K, r, sigma, T, num_days, num_simulations, option_type=\"put\")\n",
        "\n",
        "# Price options with S0 - delta_S\n",
        "call_price_down = monte_carlo_option_pricing(S0 - delta_S, K, r, sigma, T, num_days, num_simulations, option_type=\"call\")\n",
        "put_price_down = monte_carlo_option_pricing(S0 - delta_S, K, r, sigma, T, num_days, num_simulations, option_type=\"put\")\n",
        "\n",
        "# Delta calculation\n",
        "delta_call = (call_price_up - call_price_down) / (2 * delta_S)\n",
        "delta_put = (put_price_up - put_price_down) / (2 * delta_S)\n",
        "\n",
        "print(f\"Delta for European Call Option: {round(delta_call, 4)}\")\n",
        "print(f\"Delta for European Put Option: {round(delta_put, 4)}\")"
      ],
      "metadata": {
        "colab": {
          "base_uri": "https://localhost:8080/"
        },
        "id": "Y8jrncSEntQO",
        "outputId": "f67c9018-b71a-4f22-a772-133b2f8728b5"
      },
      "execution_count": null,
      "outputs": [
        {
          "output_type": "stream",
          "name": "stdout",
          "text": [
            "Delta for European Call Option: 0.5781\n",
            "Delta for European Put Option: -0.4464\n"
          ]
        }
      ]
    },
    {
      "cell_type": "markdown",
      "source": [
        "7.\tWith the results:\n",
        "•\tEuropean Call Option:\n",
        "\n",
        "•\tOriginal Call Price at 20% Volatility: 4.592\n",
        "\n",
        "•\tIncreased Call Price at 25% Volatility: 5.607\n",
        "\n",
        "•\tVega for the Call Option: 20.3047\n",
        "\n",
        "•\tEuropean Put Option:\n",
        "\n",
        "•\tOriginal Put Price at 20% Volatility: 3.3591\n",
        "\n",
        "•\tIncreased Put Price at 25% Volatility: 4.3453\n",
        "\n",
        "•\tVega for the Put Option: 19.7232\n",
        "\n",
        "The Vega values show how sensitive each option's price is to changes in volatility. For both call and put options:\n",
        "\n",
        "•\tCall Vega: 20.3047\n",
        "\n",
        "•\tPut Vega: 19.7232\n",
        "\n",
        "This means that:\n",
        "\n",
        "•\tFor a 5% increase in volatility (from 20% to 25%), the call option price increased by about $1.105 (from $4.592 to $5.607).\n",
        "\n",
        "•\tThe put option price increased by about $0.9862 as well(from $3.3591 to $4.3453).\n",
        "\n",
        "These results show that both the European call and put options become more valuable as volatility increases.\n"
      ],
      "metadata": {
        "id": "uF3YXCh0MooQ"
      }
    },
    {
      "cell_type": "code",
      "source": [
        "# 7. Compute Vega (Sensitivity to Volatility)\n",
        "## Original prices with 20% volatility\n",
        "call_price = monte_carlo_option_pricing(S0, K, r, sigma, T, num_days, num_simulations, option_type=\"call\")\n",
        "put_price = monte_carlo_option_pricing(S0, K, r, sigma, T, num_days, num_simulations, option_type=\"put\")\n",
        "\n",
        "# Prices with increased volatility (25%)\n",
        "call_price_vol_increase = monte_carlo_option_pricing(S0, K, r, sigma + delta_sigma, T, num_days, num_simulations, option_type=\"call\")\n",
        "put_price_vol_increase = monte_carlo_option_pricing(S0, K, r, sigma + delta_sigma, T, num_days, num_simulations, option_type=\"put\")\n",
        "\n",
        "# Vega calculation\n",
        "vega_call = (call_price_vol_increase - call_price) / delta_sigma\n",
        "vega_put = (put_price_vol_increase - put_price) / delta_sigma\n",
        "\n",
        "# Print results\n",
        "print(f\"Original Call Price at 20% Volatility: {round(call_price, 4)}\")\n",
        "print(f\"Increased Call Price at 25% Volatility: {round(call_price_vol_increase, 4)}\")\n",
        "print(f\"Vega for the Call Option: {round(vega_call, 4)}\\n\")\n",
        "\n",
        "print(f\"Original Put Price at 20% Volatility: {round(put_price, 4)}\")\n",
        "print(f\"Increased Put Price at 25% Volatility: {round(put_price_vol_increase, 4)}\")\n",
        "print(f\"Vega for the Put Option: {round(vega_put, 4)}\")"
      ],
      "metadata": {
        "colab": {
          "base_uri": "https://localhost:8080/"
        },
        "id": "Li16aIkr3Adg",
        "outputId": "916275ac-1732-4a04-99dd-924c6d94854d"
      },
      "execution_count": null,
      "outputs": [
        {
          "output_type": "stream",
          "name": "stdout",
          "text": [
            "Original Call Price at 20% Volatility: 4.592\n",
            "Increased Call Price at 25% Volatility: 5.6072\n",
            "Vega for the Call Option: 20.3047\n",
            "\n",
            "Original Put Price at 20% Volatility: 3.3591\n",
            "Increased Put Price at 25% Volatility: 4.3453\n",
            "Vega for the Put Option: 19.7232\n"
          ]
        }
      ]
    },
    {
      "cell_type": "markdown",
      "source": [
        "**Step 2**"
      ],
      "metadata": {
        "id": "OLu0yFmbASyZ"
      }
    },
    {
      "cell_type": "markdown",
      "source": [
        "**5.  Pricing an ATM American Put Using Monte Carlo Simulation**\n",
        "\n",
        "In this step, our formulated function simulates daily paths for the stock price using Geometric Brownian Motion. At each time step, the intrinsic value is compared with the discounted value from future steps. The option value at each step is determined by taking the maximum of these two, which models the early exercise feature of American options.\n"
      ],
      "metadata": {
        "id": "WdHULWVqNIa5"
      }
    },
    {
      "cell_type": "code",
      "source": [
        "import numpy as np\n",
        "# Parameters\n",
        "S0 = 100      # Initial stock price\n",
        "K = 100       # Strike price (ATM)\n",
        "r = 0.05      # Risk-free rate (5%)\n",
        "sigma = 0.20  # Original volatility (20%)\n",
        "T = 3 / 12    # Maturity in years (3 months)\n",
        "num_days = 63 # Daily time steps (252 trading days in a year, 3 months ≈ 63 days)\n",
        "num_simulations = 80000  # Number of Monte Carlo simulations\n",
        "delta_S = 1   # Change in stock price for Delta calculation\n",
        "delta_sigma = 0.05  # Change in volatility for Vega calculation\n",
        "\n",
        "# Monte Carlo simulation for American put option pricing with early exercise\n",
        "def monte_carlo_american_put_pricing(S0, K, r, sigma, T, num_days, num_simulations):\n",
        "    dt = T / num_days\n",
        "    option_values = []\n",
        "\n",
        "    for _ in range(num_simulations):\n",
        "        # Simulate daily stock prices using GBM\n",
        "        S_t_path = [S0]\n",
        "        for _ in range(1, num_days + 1):\n",
        "            Z = np.random.normal(0, 1)\n",
        "            S_t = S_t_path[-1] * np.exp((r - 0.5 * sigma ** 2) * dt + sigma * np.sqrt(dt) * Z)\n",
        "            S_t_path.append(S_t)\n",
        "\n",
        "        # Calculate option value at each step with the possibility of early exercise\n",
        "        put_values = [max(K - S, 0) for S in S_t_path]\n",
        "        discounted_put_values = [put_values[-1]]  # Start with the terminal payoff\n",
        "\n",
        "        for i in range(num_days - 1, -1, -1):\n",
        "            intrinsic_value = max(K - S_t_path[i], 0)\n",
        "            discounted_value = np.exp(-r * dt) * discounted_put_values[-1]\n",
        "            # Apply early exercise condition\n",
        "            discounted_put_values.append(max(intrinsic_value, discounted_value))\n",
        "\n",
        "        # Store the value at time 0\n",
        "        option_values.append(discounted_put_values[-1])\n",
        "\n",
        "    # Calculate the average option price\n",
        "    american_put_price = np.mean(option_values) * np.exp(-r * T)\n",
        "    return american_put_price\n"
      ],
      "metadata": {
        "id": "kXjb9WlR3A5T"
      },
      "execution_count": null,
      "outputs": []
    },
    {
      "cell_type": "code",
      "source": [
        "# 5. Price ATM American put option\n",
        "american_put_price = monte_carlo_american_put_pricing(S0, K, r, sigma, T, num_days, num_simulations)\n",
        "print(f\"ATM American Put Option Price: {round(american_put_price, 4)}\")"
      ],
      "metadata": {
        "colab": {
          "base_uri": "https://localhost:8080/"
        },
        "id": "A3qr4bq-AdQZ",
        "outputId": "16f734ce-86c1-48b2-88bc-79b73c85ef28"
      },
      "execution_count": null,
      "outputs": [
        {
          "output_type": "stream",
          "name": "stdout",
          "text": [
            "ATM American Put Option Price: 6.3894\n"
          ]
        }
      ]
    },
    {
      "cell_type": "markdown",
      "source": [
        "6. The output we obtained of Delta for American Put Option is -0.8682, indicates that for every 1 increase in the underlying stock price, the price of the American put option is expected to decrease by approximately 0.87. And the negative sign reflects the nature of put options: as the underlying asset price increases, the value of the put option typically decreases, which aligns with the fundamental behavior of put options. Overall, the American put option is quite sensitive to changes in the underlying asset price, and a decrease in the asset price would increase the option's value, as expected."
      ],
      "metadata": {
        "id": "YBhV47V8NMPa"
      }
    },
    {
      "cell_type": "code",
      "source": [
        "# 6. Compute Greek Delta for the American put at time 0\n",
        "# Price option with S0 + delta_S\n",
        "put_price_up = monte_carlo_american_put_pricing(S0 + delta_S, K, r, sigma, T, num_days, num_simulations)\n",
        "\n",
        "# Price option with S0 - delta_S\n",
        "put_price_down = monte_carlo_american_put_pricing(S0 - delta_S, K, r, sigma, T, num_days, num_simulations)\n",
        "\n",
        "# Delta calculation\n",
        "delta_put = (put_price_up - put_price_down) / (2 * delta_S)\n",
        "print(f\"Delta for American Put Option: {round(delta_put, 4)}\")\n"
      ],
      "metadata": {
        "colab": {
          "base_uri": "https://localhost:8080/"
        },
        "id": "_Cww3CCbAgRI",
        "outputId": "57742a7c-d99d-47d8-b086-c19c9eb8d6f7"
      },
      "execution_count": null,
      "outputs": [
        {
          "output_type": "stream",
          "name": "stdout",
          "text": [
            "Delta for American Put Option: -0.8682\n"
          ]
        }
      ]
    },
    {
      "cell_type": "markdown",
      "source": [
        "7. The output we obtained:\n",
        "\n",
        "•\tAmerican Put Option:\n",
        "\n",
        "•\tOriginal Put Price at 20% Volatility: 6.3819\n",
        "\n",
        "•\tIncreased Put Price at 25% Volatility: 8.0846\n",
        "\n",
        "•\tVega for the Put Option: 34.0553\n",
        "\n",
        "The increase in the American put option's price from 6.3819 to $8.0846 due to a 5% increase in volatility aligns with the nature of options—where higher volatility increases the chance of more significant price movements and potential profits. Whereas, a high Vega value, such as 34.0553, suggests that the option's price is highly responsive to changes in volatility. This reflects that if the market expects more volatility in the future, the price of the option will increase significantly.\n"
      ],
      "metadata": {
        "id": "hQEYpts2NXY2"
      }
    },
    {
      "cell_type": "code",
      "source": [
        "# 7. Compute Vega (Sensitivity to Volatility)\n",
        "# Original price at 20% volatility\n",
        "put_price = monte_carlo_american_put_pricing(S0, K, r, sigma, T, num_days, num_simulations)\n",
        "\n",
        "# Price with increased volatility (25%)\n",
        "put_price_vol_increase = monte_carlo_american_put_pricing(S0, K, r, sigma + delta_sigma, T, num_days, num_simulations)\n",
        "\n",
        "# Vega calculation\n",
        "vega_put = (put_price_vol_increase - put_price) / delta_sigma\n",
        "\n",
        "# Print results\n",
        "print(f\"Original Put Price at 20% Volatility: {round(put_price, 4)}\")\n",
        "print(f\"Increased Put Price at 25% Volatility: {round(put_price_vol_increase, 4)}\")\n",
        "print(f\"Vega for the American Put Option: {round(vega_put, 4)}\")"
      ],
      "metadata": {
        "colab": {
          "base_uri": "https://localhost:8080/"
        },
        "id": "o-IsX7g4Ap1h",
        "outputId": "395607b6-d6fe-44d0-dccf-c3b80d278c10"
      },
      "execution_count": null,
      "outputs": [
        {
          "output_type": "stream",
          "name": "stdout",
          "text": [
            "Original Put Price at 20% Volatility: 6.3819\n",
            "Increased Put Price at 25% Volatility: 8.0846\n",
            "Vega for the American Put Option: 34.0553\n"
          ]
        }
      ]
    },
    {
      "cell_type": "markdown",
      "source": [
        "**Step 3**"
      ],
      "metadata": {
        "id": "mXrGJYCNE_ri"
      }
    },
    {
      "cell_type": "markdown",
      "source": [
        "In this step, the Up-and-Out barrier feature introduces a significant risk that the option will become worthless if the underlying price breaches the barrier. This explains the low value for the call option and the higher value for the put option, reflecting the underlying probability of price paths remaining valid until maturity.\n",
        "\n",
        "Here Monte Carlo methods are used to simulate the price paths of the underlying asset using GBM. If the underlying asset's price hits or exceeds the barrier level of 141, the option is knocked out and becomes worthless, regardless of where the price ends at maturity. During each path simulation, the code checks if the stock price hits or exceeds the barrier level at any point. If it does, that specific path results in a payoff of zero for both call and put options.\n",
        "Here we obtained the call option price 0.7042. The relatively low price indicates that the likelihood of the underlying asset reaching or exceeding the barrier level (141) is significant, limiting the number of valid paths that contribute to a non-zero payoff. This results in a lower value for the Up-and-Out barrier call option.\n",
        "\n",
        "On the other hand, the put option price we obtained 8.413. The higher price for the put option suggests that, while the barrier condition still applies, there is a greater likelihood of the underlying asset remaining below the strike price at maturity without breaching the barrier, allowing more valid paths to contribute to the payoff.\n"
      ],
      "metadata": {
        "id": "2xzJS7_UNlIl"
      }
    },
    {
      "cell_type": "code",
      "source": [
        "import numpy as np\n",
        "\n",
        "# Parameters\n",
        "S0 = 120       # Initial stock price\n",
        "K = 120        # Strike price (ATM)\n",
        "r = 0.06       # Risk-free rate (6%)\n",
        "sigma = 0.30   # Volatility (30%)\n",
        "T = 8 / 12     # Maturity in years (8 months)\n",
        "num_days = int(252 * (8 / 12))  # Daily time steps (approximation for 8 months)\n",
        "num_simulations = 80000        # Number of Monte Carlo simulations\n",
        "barrier = 141  # Barrier level\n",
        "\n",
        "# Monte Carlo simulation for Up-and-Out barrier options\n",
        "def monte_carlo_uoa_option(S0, K, r, sigma, T, num_days, num_simulations, barrier, option_type=\"call\"):\n",
        "    dt = T / num_days\n",
        "    payoff_sum = 0\n",
        "\n",
        "    for _ in range(num_simulations):\n",
        "        # Simulate daily stock prices using GBM\n",
        "        S_t = S0\n",
        "        barrier_breached = False\n",
        "        for _ in range(num_days):\n",
        "            Z = np.random.normal(0, 1)\n",
        "            S_t *= np.exp((r - 0.5 * sigma ** 2) * dt + sigma * np.sqrt(dt) * Z)\n",
        "            if S_t >= barrier:\n",
        "                barrier_breached = True\n",
        "                break\n",
        "\n",
        "        # Calculate payoff at maturity only if the barrier was not breached\n",
        "        if not barrier_breached:\n",
        "            if option_type == \"call\":\n",
        "                payoff_sum += max(S_t - K, 0)\n",
        "            elif option_type == \"put\":\n",
        "                payoff_sum += max(K - S_t, 0)\n",
        "\n",
        "    # Calculate the discounted option price\n",
        "    option_price = (payoff_sum / num_simulations) * np.exp(-r * T)\n",
        "    return option_price\n",
        "\n",
        "# Price the Up-and-Out call and put options\n",
        "uoa_call_price = monte_carlo_uoa_option(S0, K, r, sigma, T, num_days, num_simulations, barrier, option_type=\"call\")\n",
        "uoa_put_price = monte_carlo_uoa_option(S0, K, r, sigma, T, num_days, num_simulations, barrier, option_type=\"put\")\n",
        "\n",
        "# Print results\n",
        "print(f\"Up-and-Out Barrier Call Option Price: {round(uoa_call_price, 4)}\")\n",
        "print(f\"Up-and-Out Barrier Put Option Price: {round(uoa_put_price, 4)}\")"
      ],
      "metadata": {
        "colab": {
          "base_uri": "https://localhost:8080/"
        },
        "id": "kuYSk2fBFYm8",
        "outputId": "990cc643-1c41-4aeb-958d-22363a2d2896"
      },
      "execution_count": null,
      "outputs": [
        {
          "output_type": "stream",
          "name": "stdout",
          "text": [
            "Up-and-Out Barrier Call Option Price: 0.7042\n",
            "Up-and-Out Barrier Put Option Price: 8.413\n"
          ]
        }
      ]
    },
    {
      "cell_type": "code",
      "source": [],
      "metadata": {
        "id": "hQhp9FA8GqCr"
      },
      "execution_count": null,
      "outputs": []
    }
  ]
}